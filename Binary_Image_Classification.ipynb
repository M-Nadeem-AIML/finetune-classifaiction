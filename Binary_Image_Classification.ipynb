{
 "cells": [
  {
   "cell_type": "code",
   "execution_count": 10,
   "metadata": {},
   "outputs": [],
   "source": [
    "#import libraries \n",
    "import os\n",
    "import tensorflow as tf\n",
    "from tensorflow.keras.preprocessing.image import ImageDataGenerator\n",
    "import numpy as np\n",
    "import keras.utils as image  \n",
    "import os\n",
    "import matplotlib.pyplot as plt\n",
    "from os import listdir"
   ]
  },
  {
   "cell_type": "markdown",
   "metadata": {},
   "source": [
    "# First approach build your own CNN"
   ]
  },
  {
   "cell_type": "code",
   "execution_count": 3,
   "metadata": {},
   "outputs": [],
   "source": [
    "base_dir = './apod-dataset/'\n",
    "train_dir = os.path.join(base_dir, 'train')\n",
    "validation_dir = os.path.join(base_dir, 'valid')\n",
    "\n",
    "train_fake_dir = os.path.join(train_dir, 'fake')\n",
    "train_real_dir = os.path.join(train_dir, 'real')\n",
    "\n",
    "validation_fake_dir = os.path.join(validation_dir, 'fake')\n",
    "validation_real_dir = os.path.join(validation_dir, 'real')"
   ]
  },
  {
   "cell_type": "code",
   "execution_count": 36,
   "metadata": {},
   "outputs": [],
   "source": [
    "model = tf.keras.models.Sequential([\n",
    "    tf.keras.layers.Conv2D(16, (3,3), activation='relu', input_shape=(150, 150, 3)),\n",
    "    tf.keras.layers.MaxPooling2D(2,2),\n",
    "    tf.keras.layers.Conv2D(32, (3,3), activation='relu'),\n",
    "    tf.keras.layers.MaxPooling2D(2,2), \n",
    "    tf.keras.layers.Conv2D(64, (3,3), activation='relu'), \n",
    "    tf.keras.layers.MaxPooling2D(2,2),\n",
    "    tf.keras.layers.Conv2D(128, (3,3), activation='relu'), \n",
    "    tf.keras.layers.MaxPooling2D(2,2),\n",
    "    tf.keras.layers.Conv2D(256, (3,3), activation='relu'), \n",
    "    tf.keras.layers.MaxPooling2D(2,2),\n",
    "    tf.keras.layers.Flatten(), \n",
    "    tf.keras.layers.Dense(512, activation='relu'), \n",
    "    tf.keras.layers.Dense(1, activation='sigmoid')  \n",
    "])"
   ]
  },
  {
   "cell_type": "code",
   "execution_count": 37,
   "metadata": {},
   "outputs": [
    {
     "name": "stdout",
     "output_type": "stream",
     "text": [
      "Model: \"sequential_5\"\n",
      "_________________________________________________________________\n",
      " Layer (type)                Output Shape              Param #   \n",
      "=================================================================\n",
      " conv2d_23 (Conv2D)          (None, 148, 148, 16)      448       \n",
      "                                                                 \n",
      " max_pooling2d_23 (MaxPoolin  (None, 74, 74, 16)       0         \n",
      " g2D)                                                            \n",
      "                                                                 \n",
      " conv2d_24 (Conv2D)          (None, 72, 72, 32)        4640      \n",
      "                                                                 \n",
      " max_pooling2d_24 (MaxPoolin  (None, 36, 36, 32)       0         \n",
      " g2D)                                                            \n",
      "                                                                 \n",
      " conv2d_25 (Conv2D)          (None, 34, 34, 64)        18496     \n",
      "                                                                 \n",
      " max_pooling2d_25 (MaxPoolin  (None, 17, 17, 64)       0         \n",
      " g2D)                                                            \n",
      "                                                                 \n",
      " conv2d_26 (Conv2D)          (None, 15, 15, 128)       73856     \n",
      "                                                                 \n",
      " max_pooling2d_26 (MaxPoolin  (None, 7, 7, 128)        0         \n",
      " g2D)                                                            \n",
      "                                                                 \n",
      " conv2d_27 (Conv2D)          (None, 5, 5, 256)         295168    \n",
      "                                                                 \n",
      " max_pooling2d_27 (MaxPoolin  (None, 2, 2, 256)        0         \n",
      " g2D)                                                            \n",
      "                                                                 \n",
      " flatten_5 (Flatten)         (None, 1024)              0         \n",
      "                                                                 \n",
      " dense_10 (Dense)            (None, 512)               524800    \n",
      "                                                                 \n",
      " dense_11 (Dense)            (None, 1)                 513       \n",
      "                                                                 \n",
      "=================================================================\n",
      "Total params: 917,921\n",
      "Trainable params: 917,921\n",
      "Non-trainable params: 0\n",
      "_________________________________________________________________\n"
     ]
    }
   ],
   "source": [
    "model.summary()"
   ]
  },
  {
   "cell_type": "code",
   "execution_count": 38,
   "metadata": {},
   "outputs": [],
   "source": [
    "model.compile(optimizer=\"adam\",\n",
    "              loss='binary_crossentropy',\n",
    "              metrics = ['accuracy'])"
   ]
  },
  {
   "cell_type": "code",
   "execution_count": 39,
   "metadata": {},
   "outputs": [
    {
     "name": "stdout",
     "output_type": "stream",
     "text": [
      "Found 1405 images belonging to 2 classes.\n",
      "Found 1787 images belonging to 2 classes.\n"
     ]
    }
   ],
   "source": [
    "train_datagen = ImageDataGenerator(rescale = 1.0/255)\n",
    "test_datagen  = ImageDataGenerator(rescale = 1.0/255)\n",
    "\n",
    "train_generator = train_datagen.flow_from_directory(train_dir,\n",
    "                                                    batch_size=20,\n",
    "                                                    class_mode='binary',\n",
    "                                                    target_size=(150, 150))\n",
    "\n",
    "validation_generator =  test_datagen.flow_from_directory(validation_dir,\n",
    "                                                         batch_size=20,\n",
    "                                                         class_mode='binary',\n",
    "                                                         target_size=(150, 150))"
   ]
  },
  {
   "cell_type": "code",
   "execution_count": 41,
   "metadata": {},
   "outputs": [
    {
     "name": "stdout",
     "output_type": "stream",
     "text": [
      "Epoch 1/20\n",
      "50/50 - 9s - loss: 0.4639 - accuracy: 0.7848 - val_loss: 0.4513 - val_accuracy: 0.7980 - 9s/epoch - 187ms/step\n",
      "Epoch 2/20\n",
      "50/50 - 8s - loss: 0.4557 - accuracy: 0.7878 - val_loss: 0.4541 - val_accuracy: 0.7860 - 8s/epoch - 157ms/step\n",
      "Epoch 3/20\n",
      "50/50 - 7s - loss: 0.4553 - accuracy: 0.7919 - val_loss: 0.4331 - val_accuracy: 0.7900 - 7s/epoch - 142ms/step\n",
      "Epoch 4/20\n",
      "50/50 - 7s - loss: 0.4572 - accuracy: 0.7980 - val_loss: 0.6031 - val_accuracy: 0.6690 - 7s/epoch - 141ms/step\n",
      "Epoch 5/20\n",
      "50/50 - 7s - loss: 0.4484 - accuracy: 0.8000 - val_loss: 0.4691 - val_accuracy: 0.7740 - 7s/epoch - 136ms/step\n",
      "Epoch 6/20\n",
      "50/50 - 7s - loss: 0.3923 - accuracy: 0.8325 - val_loss: 0.4543 - val_accuracy: 0.7860 - 7s/epoch - 136ms/step\n",
      "Epoch 7/20\n",
      "50/50 - 7s - loss: 0.3835 - accuracy: 0.8355 - val_loss: 0.4515 - val_accuracy: 0.8030 - 7s/epoch - 139ms/step\n",
      "Epoch 8/20\n",
      "50/50 - 7s - loss: 0.3613 - accuracy: 0.8477 - val_loss: 0.4254 - val_accuracy: 0.8260 - 7s/epoch - 134ms/step\n",
      "Epoch 9/20\n",
      "50/50 - 7s - loss: 0.3498 - accuracy: 0.8508 - val_loss: 0.5164 - val_accuracy: 0.7830 - 7s/epoch - 142ms/step\n",
      "Epoch 10/20\n",
      "50/50 - 7s - loss: 0.3576 - accuracy: 0.8518 - val_loss: 0.4136 - val_accuracy: 0.8260 - 7s/epoch - 135ms/step\n",
      "Epoch 11/20\n",
      "50/50 - 7s - loss: 0.3449 - accuracy: 0.8460 - val_loss: 0.4238 - val_accuracy: 0.8220 - 7s/epoch - 134ms/step\n",
      "Epoch 12/20\n",
      "50/50 - 7s - loss: 0.3197 - accuracy: 0.8740 - val_loss: 0.4093 - val_accuracy: 0.8350 - 7s/epoch - 138ms/step\n",
      "Epoch 13/20\n",
      "50/50 - 7s - loss: 0.2851 - accuracy: 0.8782 - val_loss: 0.6828 - val_accuracy: 0.7350 - 7s/epoch - 140ms/step\n",
      "Epoch 14/20\n",
      "50/50 - 7s - loss: 0.3014 - accuracy: 0.8731 - val_loss: 0.4641 - val_accuracy: 0.7820 - 7s/epoch - 136ms/step\n",
      "Epoch 15/20\n",
      "50/50 - 7s - loss: 0.2716 - accuracy: 0.8944 - val_loss: 0.4712 - val_accuracy: 0.8340 - 7s/epoch - 139ms/step\n",
      "Epoch 16/20\n",
      "50/50 - 7s - loss: 0.2746 - accuracy: 0.8924 - val_loss: 0.4488 - val_accuracy: 0.8210 - 7s/epoch - 134ms/step\n",
      "Epoch 17/20\n",
      "50/50 - 7s - loss: 0.2621 - accuracy: 0.8924 - val_loss: 0.5103 - val_accuracy: 0.8390 - 7s/epoch - 136ms/step\n",
      "Epoch 18/20\n",
      "50/50 - 7s - loss: 0.2366 - accuracy: 0.9025 - val_loss: 0.5252 - val_accuracy: 0.8140 - 7s/epoch - 135ms/step\n",
      "Epoch 19/20\n",
      "50/50 - 7s - loss: 0.2222 - accuracy: 0.9076 - val_loss: 0.5120 - val_accuracy: 0.8100 - 7s/epoch - 139ms/step\n",
      "Epoch 20/20\n",
      "50/50 - 7s - loss: 0.2067 - accuracy: 0.9168 - val_loss: 0.5538 - val_accuracy: 0.8100 - 7s/epoch - 137ms/step\n"
     ]
    }
   ],
   "source": [
    "history = model.fit(\n",
    "            train_generator, \n",
    "            steps_per_epoch=50,\n",
    "            epochs=20,\n",
    "            validation_data=validation_generator, \n",
    "            validation_steps=50,\n",
    "            verbose=2\n",
    "            )"
   ]
  },
  {
   "cell_type": "code",
   "execution_count": 42,
   "metadata": {},
   "outputs": [
    {
     "data": {
      "text/plain": [
       "Text(0.5, 1.0, 'Loss in training and validation')"
      ]
     },
     "execution_count": 42,
     "metadata": {},
     "output_type": "execute_result"
    },
    {
     "data": {
      "image/png": "[encoded data removed]",
      "text/plain": [
       "<Figure size 432x288 with 1 Axes>"
      ]
     },
     "metadata": {
      "needs_background": "light"
     },
     "output_type": "display_data"
    },
    {
     "data": {
      "image/png": "[encoded data removed]",
      "text/plain": [
       "<Figure size 432x288 with 1 Axes>"
      ]
     },
     "metadata": {
      "needs_background": "light"
     },
     "output_type": "display_data"
    }
   ],
   "source": [
    "acc = history.history['accuracy']\n",
    "val_acc = history.history['val_accuracy']\n",
    "loss = history.history['loss']\n",
    "val_loss = history.history['val_loss']\n",
    "\n",
    "epochs = range(len(acc)) \n",
    "\n",
    "plt.plot(epochs, acc)\n",
    "plt.plot(epochs, val_acc)\n",
    "plt.title('Accuracy in training and validation')\n",
    "plt.figure()\n",
    "\n",
    "plt.plot(epochs, loss)\n",
    "plt.plot(epochs, val_loss)\n",
    "plt.title('Loss in training and validation')"
   ]
  },
  {
   "cell_type": "code",
   "execution_count": 43,
   "metadata": {},
   "outputs": [
    {
     "name": "stdout",
     "output_type": "stream",
     "text": [
      "1/1 [==============================] - 1s 518ms/step\n",
      "[0.9999969]\n",
      " is a real!\n",
      "1/1 [==============================] - 0s 95ms/step\n",
      "[1.]\n",
      " is a real!\n",
      "1/1 [==============================] - 0s 87ms/step\n",
      "[0.9999884]\n",
      " is a real!\n",
      "1/1 [==============================] - 0s 85ms/step\n",
      "[1.]\n",
      " is a real!\n",
      "1/1 [==============================] - 0s 83ms/step\n",
      "[0.98434055]\n",
      " is a real!\n",
      "1/1 [==============================] - 0s 113ms/step\n",
      "[0.9997886]\n",
      " is a real!\n",
      "1/1 [==============================] - 0s 107ms/step\n",
      "[1.]\n",
      " is a real!\n",
      "1/1 [==============================] - 0s 88ms/step\n",
      "[0.9999196]\n",
      " is a real!\n",
      "1/1 [==============================] - 0s 105ms/step\n",
      "[1.]\n",
      " is a real!\n",
      "1/1 [==============================] - 0s 118ms/step\n",
      "[0.6611284]\n",
      " is a real!\n"
     ]
    }
   ],
   "source": [
    "folder_dir = \"./apod-dataset/valid/real/\"\n",
    "a=0\n",
    "for images in os.listdir(folder_dir):\n",
    "    a=a+1\n",
    "\n",
    "    if (images.endswith(\".jpg\")or images.endswith(\".png\")):\n",
    "        img = image.load_img(folder_dir+images, target_size=(150, 150)) \n",
    "\n",
    "          # scaling process\n",
    "        x = image.img_to_array(img)\n",
    "        x /= 255 \n",
    "        x = np.expand_dims(x, axis=0)\n",
    "          # flatten the output\n",
    "        images = np.vstack([x])\n",
    "\n",
    "          # prediction!\n",
    "        classes = model.predict(images, batch_size=10)\n",
    "\n",
    "        print(classes[0])\n",
    "\n",
    "        if classes[0] > 0.5:\n",
    "            print(\" is a real!\")\n",
    "        else:\n",
    "            print(\" is a fake!\")\n",
    "    if a==10:\n",
    "        break"
   ]
  },
  {
   "cell_type": "markdown",
   "metadata": {},
   "source": [
    "# Fine tune the keras build in model"
   ]
  },
  {
   "cell_type": "code",
   "execution_count": 46,
   "metadata": {},
   "outputs": [],
   "source": [
    "import tensorflow as tf"
   ]
  },
  {
   "cell_type": "code",
   "execution_count": 44,
   "metadata": {},
   "outputs": [],
   "source": [
    "from tensorflow.keras.applications.inception_v3 import InceptionV3"
   ]
  },
  {
   "cell_type": "code",
   "execution_count": 51,
   "metadata": {},
   "outputs": [
    {
     "name": "stdout",
     "output_type": "stream",
     "text": [
      "Model: \"model_1\"\n",
      "_________________________________________________________________\n",
      " Layer (type)                Output Shape              Param #   \n",
      "=================================================================\n",
      " input_11 (InputLayer)       [(None, 150, 150, 3)]     0         \n",
      "                                                                 \n",
      " rescaling_1 (Rescaling)     (None, 150, 150, 3)       0         \n",
      "                                                                 \n",
      " inception_v3 (Functional)   (None, 3, 3, 2048)        21802784  \n",
      "                                                                 \n",
      " global_average_pooling2d_1   (None, 2048)             0         \n",
      " (GlobalAveragePooling2D)                                        \n",
      "                                                                 \n",
      " dropout_1 (Dropout)         (None, 2048)              0         \n",
      "                                                                 \n",
      " dense_13 (Dense)            (None, 1)                 2049      \n",
      "                                                                 \n",
      "=================================================================\n",
      "Total params: 21,804,833\n",
      "Trainable params: 2,049\n",
      "Non-trainable params: 21,802,784\n",
      "_________________________________________________________________\n"
     ]
    }
   ],
   "source": [
    "base_model = InceptionV3(\n",
    "    weights=\"imagenet\",  # Load weights pre-trained on ImageNet.\n",
    "    input_shape=(150, 150, 3),\n",
    "    include_top=False,\n",
    ")  # Do not include the ImageNet classifier at the top.\n",
    "\n",
    "# Freeze the base_model\n",
    "base_model.trainable = False\n",
    "\n",
    "# Create new model on top\n",
    "inputs = tf.keras.Input(shape=(150, 150, 3))\n",
    "  # Apply random data augmentation\n",
    "\n",
    "# Pre-trained Xception weights requires that input be scaled\n",
    "# from (0, 255) to a range of (-1., +1.), the rescaling layer\n",
    "# outputs: `(inputs * scale) + offset`\n",
    "scale_layer = tf.keras.layers.Rescaling(scale=1 / 127.5, offset=-1)\n",
    "x = scale_layer(inputs)\n",
    "\n",
    "# The base model contains batchnorm layers. We want to keep them in inference mode\n",
    "# when we unfreeze the base model for fine-tuning, so we make sure that the\n",
    "# base_model is running in inference mode here.\n",
    "x = base_model(x, training=False)\n",
    "x = tf.keras.layers.GlobalAveragePooling2D()(x)\n",
    "x = tf.keras.layers.Dropout(0.2)(x)  # Regularize with dropout\n",
    "outputs = tf.keras.layers.Dense(1)(x)\n",
    "model = tf.keras.Model(inputs, outputs)\n",
    "\n",
    "model.summary()"
   ]
  },
  {
   "cell_type": "code",
   "execution_count": 54,
   "metadata": {},
   "outputs": [
    {
     "name": "stdout",
     "output_type": "stream",
     "text": [
      "Epoch 1/15\n",
      "71/71 [==============================] - 96s 1s/step - loss: 0.6449 - binary_accuracy: 0.5708 - val_loss: 0.6570 - val_binary_accuracy: 0.4415\n",
      "Epoch 2/15\n",
      "71/71 [==============================] - 83s 1s/step - loss: 0.6259 - binary_accuracy: 0.5815 - val_loss: 0.6334 - val_binary_accuracy: 0.4801\n",
      "Epoch 3/15\n",
      "71/71 [==============================] - 77s 1s/step - loss: 0.6145 - binary_accuracy: 0.5929 - val_loss: 0.6002 - val_binary_accuracy: 0.5490\n",
      "Epoch 4/15\n",
      "71/71 [==============================] - 83s 1s/step - loss: 0.6068 - binary_accuracy: 0.6135 - val_loss: 0.6036 - val_binary_accuracy: 0.5422\n",
      "Epoch 5/15\n",
      "71/71 [==============================] - 83s 1s/step - loss: 0.5989 - binary_accuracy: 0.6192 - val_loss: 0.6102 - val_binary_accuracy: 0.5339\n",
      "Epoch 6/15\n",
      "71/71 [==============================] - 84s 1s/step - loss: 0.5890 - binary_accuracy: 0.6256 - val_loss: 0.6042 - val_binary_accuracy: 0.5439\n",
      "Epoch 7/15\n",
      "71/71 [==============================] - 76s 1s/step - loss: 0.5842 - binary_accuracy: 0.6384 - val_loss: 0.6009 - val_binary_accuracy: 0.5490\n",
      "Epoch 8/15\n",
      "71/71 [==============================] - 82s 1s/step - loss: 0.5797 - binary_accuracy: 0.6363 - val_loss: 0.5951 - val_binary_accuracy: 0.5624\n",
      "Epoch 9/15\n",
      "71/71 [==============================] - 76s 1s/step - loss: 0.5767 - binary_accuracy: 0.6441 - val_loss: 0.5834 - val_binary_accuracy: 0.5904\n",
      "Epoch 10/15\n",
      "71/71 [==============================] - 73s 1s/step - loss: 0.5710 - binary_accuracy: 0.6584 - val_loss: 0.5792 - val_binary_accuracy: 0.5982\n",
      "Epoch 11/15\n",
      "71/71 [==============================] - 72s 1s/step - loss: 0.5666 - binary_accuracy: 0.6577 - val_loss: 0.5793 - val_binary_accuracy: 0.5982\n",
      "Epoch 12/15\n",
      "71/71 [==============================] - 72s 1s/step - loss: 0.5607 - binary_accuracy: 0.6591 - val_loss: 0.5809 - val_binary_accuracy: 0.5960\n",
      "Epoch 13/15\n",
      "71/71 [==============================] - 84s 1s/step - loss: 0.5605 - binary_accuracy: 0.6690 - val_loss: 0.5843 - val_binary_accuracy: 0.5893\n",
      "Epoch 14/15\n",
      "71/71 [==============================] - 83s 1s/step - loss: 0.5559 - binary_accuracy: 0.6669 - val_loss: 0.5692 - val_binary_accuracy: 0.6184\n",
      "Epoch 15/15\n",
      "71/71 [==============================] - 78s 1s/step - loss: 0.5523 - binary_accuracy: 0.6747 - val_loss: 0.5671 - val_binary_accuracy: 0.6212\n"
     ]
    }
   ],
   "source": [
    "model.compile(\n",
    "    optimizer=tf.keras.optimizers.Adam(),\n",
    "    loss=tf.keras.losses.BinaryCrossentropy(from_logits=True),\n",
    "    metrics=[tf.keras.metrics.BinaryAccuracy()],\n",
    ")\n",
    "\n",
    "epochs = 15\n",
    "history=model.fit(train_generator, epochs=epochs, validation_data=validation_generator)"
   ]
  },
  {
   "cell_type": "code",
   "execution_count": 57,
   "metadata": {},
   "outputs": [
    {
     "name": "stdout",
     "output_type": "stream",
     "text": [
      "Model: \"model_1\"\n",
      "_________________________________________________________________\n",
      " Layer (type)                Output Shape              Param #   \n",
      "=================================================================\n",
      " input_11 (InputLayer)       [(None, 150, 150, 3)]     0         \n",
      "                                                                 \n",
      " rescaling_1 (Rescaling)     (None, 150, 150, 3)       0         \n",
      "                                                                 \n",
      " inception_v3 (Functional)   (None, 3, 3, 2048)        21802784  \n",
      "                                                                 \n",
      " global_average_pooling2d_1   (None, 2048)             0         \n",
      " (GlobalAveragePooling2D)                                        \n",
      "                                                                 \n",
      " dropout_1 (Dropout)         (None, 2048)              0         \n",
      "                                                                 \n",
      " dense_13 (Dense)            (None, 1)                 2049      \n",
      "                                                                 \n",
      "=================================================================\n",
      "Total params: 21,804,833\n",
      "Trainable params: 21,770,401\n",
      "Non-trainable params: 34,432\n",
      "_________________________________________________________________\n",
      "Epoch 1/10\n",
      "71/71 [==============================] - 216s 2s/step - loss: 0.6658 - binary_accuracy: 0.5893 - val_loss: 0.6014 - val_binary_accuracy: 0.5434\n",
      "Epoch 2/10\n",
      "71/71 [==============================] - 147s 2s/step - loss: 0.6052 - binary_accuracy: 0.6598 - val_loss: 0.6144 - val_binary_accuracy: 0.5602\n",
      "Epoch 3/10\n",
      "71/71 [==============================] - 87s 1s/step - loss: 0.5780 - binary_accuracy: 0.6811 - val_loss: 0.5330 - val_binary_accuracy: 0.7219\n",
      "Epoch 4/10\n",
      "71/71 [==============================] - 64s 894ms/step - loss: 0.5860 - binary_accuracy: 0.6705 - val_loss: 0.5308 - val_binary_accuracy: 0.7034\n",
      "Epoch 5/10\n",
      "71/71 [==============================] - 60s 851ms/step - loss: 0.5551 - binary_accuracy: 0.7039 - val_loss: 0.6609 - val_binary_accuracy: 0.5165\n",
      "Epoch 6/10\n",
      "71/71 [==============================] - 59s 837ms/step - loss: 0.5506 - binary_accuracy: 0.7011 - val_loss: 0.5189 - val_binary_accuracy: 0.6995\n",
      "Epoch 7/10\n",
      "71/71 [==============================] - 59s 826ms/step - loss: 0.5136 - binary_accuracy: 0.7395 - val_loss: 0.5814 - val_binary_accuracy: 0.6122\n",
      "Epoch 8/10\n",
      "71/71 [==============================] - 58s 822ms/step - loss: 0.5686 - binary_accuracy: 0.6733 - val_loss: 0.5765 - val_binary_accuracy: 0.5590\n",
      "Epoch 9/10\n",
      "71/71 [==============================] - 58s 814ms/step - loss: 0.5228 - binary_accuracy: 0.7338 - val_loss: 0.5452 - val_binary_accuracy: 0.7409\n",
      "Epoch 10/10\n",
      "71/71 [==============================] - 58s 818ms/step - loss: 0.5027 - binary_accuracy: 0.7523 - val_loss: 0.5574 - val_binary_accuracy: 0.6721\n"
     ]
    }
   ],
   "source": [
    "# Unfreeze the base_model. Note that it keeps running in inference mode\n",
    "# since we passed `training=False` when calling it. This means that\n",
    "# the batchnorm layers will not update their batch statistics.\n",
    "# This prevents the batchnorm layers from undoing all the training\n",
    "# we've done so far.\n",
    "base_model.trainable = True\n",
    "model.summary()\n",
    "\n",
    "model.compile(\n",
    "    optimizer=tf.keras.optimizers.Adam(1e-5),  # Low learning rate\n",
    "    loss=tf.keras.losses.BinaryCrossentropy(from_logits=True),\n",
    "    metrics=[tf.keras.metrics.BinaryAccuracy()],\n",
    ")\n",
    "\n",
    "epochs = 10\n",
    "history=model.fit(train_generator, epochs=epochs, validation_data=validation_generator)"
   ]
  },
  {
   "cell_type": "code",
   "execution_count": 58,
   "metadata": {},
   "outputs": [
    {
     "name": "stdout",
     "output_type": "stream",
     "text": [
      "1/1 [==============================] - 3s 3s/step\n",
      "[3.3006082]\n",
      " is a real!\n",
      "1/1 [==============================] - 0s 77ms/step\n",
      "[7.4722385]\n",
      " is a real!\n",
      "1/1 [==============================] - 0s 74ms/step\n",
      "[8.534357]\n",
      " is a real!\n",
      "1/1 [==============================] - 0s 75ms/step\n",
      "[4.21603]\n",
      " is a real!\n",
      "1/1 [==============================] - 0s 80ms/step\n",
      "[0.02768583]\n",
      " is a fake!\n",
      "1/1 [==============================] - 0s 80ms/step\n",
      "[4.213667]\n",
      " is a real!\n",
      "1/1 [==============================] - 0s 76ms/step\n",
      "[7.3440514]\n",
      " is a real!\n",
      "1/1 [==============================] - 0s 100ms/step\n",
      "[2.9008718]\n",
      " is a real!\n",
      "1/1 [==============================] - 0s 75ms/step\n",
      "[3.730159]\n",
      " is a real!\n",
      "1/1 [==============================] - 0s 74ms/step\n",
      "[-0.8955549]\n",
      " is a fake!\n"
     ]
    }
   ],
   "source": [
    "folder_dir = \"./apod-dataset/valid/real/\"\n",
    "a=0\n",
    "for images in os.listdir(folder_dir):\n",
    "    a=a+1\n",
    "\n",
    "    if (images.endswith(\".jpg\")or images.endswith(\".png\")):\n",
    "        img = image.load_img(folder_dir+images, target_size=(150, 150)) \n",
    "\n",
    "          # scaling process\n",
    "        x = image.img_to_array(img)\n",
    "        x /= 255 \n",
    "        x = np.expand_dims(x, axis=0)\n",
    "          # flatten the output\n",
    "        images = np.vstack([x])\n",
    "\n",
    "          # prediction!\n",
    "        classes = model.predict(images, batch_size=10)\n",
    "\n",
    "        print(classes[0])\n",
    "\n",
    "        if classes[0] > 0.5:\n",
    "            print(\" is a real!\")\n",
    "        else:\n",
    "            print(\" is a fake!\")\n",
    "    if a==10:\n",
    "        break"
   ]
  }
 ],
 "metadata": {
  "kernelspec": {
   "display_name": "Python 3 (ipykernel)",
   "language": "python",
   "name": "python3"
  },
  "language_info": {
   "codemirror_mode": {
    "name": "ipython",
    "version": 3
   },
   "file_extension": ".py",
   "mimetype": "text/x-python",
   "name": "python",
   "nbconvert_exporter": "python",
   "pygments_lexer": "ipython3",
   "version": "3.9.12"
  }
 },
 "nbformat": 4,
 "nbformat_minor": 4
}
